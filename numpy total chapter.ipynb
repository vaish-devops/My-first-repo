{
 "cells": [
  {
   "cell_type": "code",
   "execution_count": 3,
   "id": "488fea90",
   "metadata": {},
   "outputs": [
    {
     "name": "stdout",
     "output_type": "stream",
     "text": [
      "Defaulting to user installation because normal site-packages is not writeable\n",
      "Requirement already satisfied: numpy in c:\\programdata\\anaconda3\\lib\\site-packages (1.21.5)\n",
      "Note: you may need to restart the kernel to use updated packages.\n"
     ]
    }
   ],
   "source": [
    "pip install numpy"
   ]
  },
  {
   "cell_type": "code",
   "execution_count": 2,
   "id": "99b886ac",
   "metadata": {},
   "outputs": [],
   "source": [
    "import numpy as np"
   ]
  },
  {
   "cell_type": "code",
   "execution_count": 5,
   "id": "4a2ffa1f",
   "metadata": {},
   "outputs": [
    {
     "name": "stdout",
     "output_type": "stream",
     "text": [
      "[1 2 3 4 5]\n"
     ]
    }
   ],
   "source": [
    "# one dimensional array\n",
    "a=np.array([1,2,3,4,5])\n",
    "print(a)"
   ]
  },
  {
   "cell_type": "code",
   "execution_count": 6,
   "id": "80c462ce",
   "metadata": {},
   "outputs": [
    {
     "name": "stdout",
     "output_type": "stream",
     "text": [
      "[[1 2 3]\n",
      " [4 5 6]]\n"
     ]
    }
   ],
   "source": [
    "# two dimensional array\n",
    "b=np.array([[1,2,3],[4,5,6]])\n",
    "print(b)"
   ]
  },
  {
   "cell_type": "code",
   "execution_count": 7,
   "id": "e3fbbb82",
   "metadata": {},
   "outputs": [
    {
     "name": "stdout",
     "output_type": "stream",
     "text": [
      "(5,)\n",
      "(2, 3)\n",
      "[[1 2 3]\n",
      " [4 5 6]]\n",
      "1 2 3 4\n"
     ]
    }
   ],
   "source": [
    "# accessing the elements of numpy array\n",
    "a=np.array([1,2,3,4,5])\n",
    "# .shape will indicate the dimension of that array\n",
    "print(a.shape)\n",
    "\n",
    "b=np.array([[1,2,3],[4,5,6]])\n",
    "print(b.shape)# here (2,3) represents the array has 2 rows and 3 columns...\n",
    "print(b)\n",
    "\n",
    "# accessing the elements based on indexing number\n",
    "print(a[0],a[1],a[2],a[3])\n",
    "\n"
   ]
  },
  {
   "cell_type": "code",
   "execution_count": 8,
   "id": "165bc7a2",
   "metadata": {},
   "outputs": [
    {
     "name": "stdout",
     "output_type": "stream",
     "text": [
      "[ 143    2    3    4 1432]\n"
     ]
    }
   ],
   "source": [
    "# changing an element of the array\n",
    "a=np.array([1,2,3,4,5])\n",
    "a[0]=143\n",
    "a[4]=1432\n",
    "print(a)"
   ]
  },
  {
   "cell_type": "code",
   "execution_count": 9,
   "id": "969d6c34",
   "metadata": {},
   "outputs": [
    {
     "name": "stdout",
     "output_type": "stream",
     "text": [
      "1 2 4\n"
     ]
    }
   ],
   "source": [
    "# accessing elements by giving row and column values(R,C)\n",
    "b=np.array([[1,2,3],[4,5,6]])\n",
    "print(b[0,0],b[0,1],b[1,0])"
   ]
  },
  {
   "cell_type": "code",
   "execution_count": 10,
   "id": "0016dd67",
   "metadata": {},
   "outputs": [
    {
     "name": "stdout",
     "output_type": "stream",
     "text": [
      "[11 22 33 44 55]\n",
      "[['a' 'b' 'c' 'd' 'e' 'f']\n",
      " ['g' 'h' 'i' 'j' 'k' 'l']]\n"
     ]
    }
   ],
   "source": [
    "#coverting a list into an array by using array() function\n",
    "hi=[11,22,33,44,55]\n",
    "hi=np.array(hi)\n",
    "print(hi)\n",
    "bye=[['a','b','c','d','e','f'],['g','h','i','j','k','l']]\n",
    "bye=np.array(bye)\n",
    "print(bye)"
   ]
  },
  {
   "cell_type": "code",
   "execution_count": 11,
   "id": "71ade39e",
   "metadata": {},
   "outputs": [
    {
     "name": "stdout",
     "output_type": "stream",
     "text": [
      "[1 3 5 7 9]\n",
      "[1.  2.5 4.  5.5 7.  8.5]\n",
      "[1 2 3 4 5 6 7 8 9]\n",
      "[0 1 2 3 4 5 6 7 8 9]\n"
     ]
    }
   ],
   "source": [
    "# creating a array by using arange() function\n",
    "# arange(1,10,2) here 1 represents starting value(),10 represents ending value(),2 represents step value()\n",
    "c=np.arange(1,10,2)\n",
    "print(c)\n",
    "\n",
    "c1=np.arange(1,10,1.5)\n",
    "print(c1)\n",
    "\n",
    "# if third value is not given then by default step size =1\n",
    "d=np.arange(1,10)\n",
    "print(d)\n",
    "\n",
    "# suppose if the 1st value and 3rd value are not given then by default start=0 and step=1\n",
    "e=np.arange(10)\n",
    "print(e)"
   ]
  },
  {
   "cell_type": "code",
   "execution_count": 12,
   "id": "1912f00b",
   "metadata": {},
   "outputs": [
    {
     "name": "stdout",
     "output_type": "stream",
     "text": [
      "2\n",
      "3\n"
     ]
    }
   ],
   "source": [
    "#using ndim function:\n",
    "#identifying whether it is a 2-D OR 3-D array.\n",
    "#in 2-D array we are accessing the elements by giving array[row],[col]\n",
    "# in 3-D array by giving array[layer],[row],[col]\n",
    "\n",
    "b=np.array([[1,2,3],[4,5,6]])\n",
    "print(b.ndim)\n",
    "b1=np.array([[[1,2,3],[4,5,6]],[[7,8,9],[10,11,12]]])\n",
    "print(b1.ndim)"
   ]
  },
  {
   "cell_type": "code",
   "execution_count": 13,
   "id": "479ee926",
   "metadata": {},
   "outputs": [
    {
     "name": "stdout",
     "output_type": "stream",
     "text": [
      "(2, 3)\n",
      "(2, 2, 3)\n"
     ]
    }
   ],
   "source": [
    "# using .shape function\n",
    "b=np.array([[1,2,3],[4,5,6]])\n",
    "print(b.shape)\n",
    "b1=np.array([[[1,2,3],[4,5,6]],[[7,8,9],[10,11,12]]])\n",
    "print(b1.shape)"
   ]
  },
  {
   "cell_type": "code",
   "execution_count": 3,
   "id": "50b410c7",
   "metadata": {},
   "outputs": [
    {
     "name": "stdout",
     "output_type": "stream",
     "text": [
      "[[1 2]\n",
      " [3 4]\n",
      " [5 6]]\n"
     ]
    }
   ],
   "source": [
    "#resize the array\n",
    "b=np.array([[1,2,3],[4,5,6]])\n",
    "b.shape=(3,2)\n",
    "print(b)"
   ]
  },
  {
   "cell_type": "code",
   "execution_count": 15,
   "id": "85345bad",
   "metadata": {},
   "outputs": [
    {
     "name": "stdout",
     "output_type": "stream",
     "text": [
      "6\n",
      "12\n"
     ]
    }
   ],
   "source": [
    "# .size function\n",
    "b=np.array([[1,2,3],[4,5,6]])\n",
    "print(b.size)\n",
    "b1=np.array([[[1,2,3],[4,5,6]],[[7,8,9],[10,11,12]]])\n",
    "print(b1.size)"
   ]
  },
  {
   "cell_type": "code",
   "execution_count": 16,
   "id": "f8646266",
   "metadata": {},
   "outputs": [
    {
     "name": "stdout",
     "output_type": "stream",
     "text": [
      "int32\n",
      "float64\n"
     ]
    }
   ],
   "source": [
    "# .dtype function\n",
    "a=np.array([1,2,3,4,5])\n",
    "print(a.dtype)\n",
    "a1=np.array([1.1,2.2,3.3,4.4])\n",
    "print(a1.dtype)"
   ]
  },
  {
   "cell_type": "code",
   "execution_count": 17,
   "id": "cfaf721d",
   "metadata": {},
   "outputs": [
    {
     "name": "stdout",
     "output_type": "stream",
     "text": [
      "4\n",
      "8\n"
     ]
    }
   ],
   "source": [
    "# .itemsize function\n",
    "a=np.array([1,2,3,4,5])\n",
    "print(a.itemsize)\n",
    "a1=np.array([1.1,2.2,3.3,4.4])\n",
    "print(a1.itemsize)"
   ]
  },
  {
   "cell_type": "code",
   "execution_count": 18,
   "id": "8976dafe",
   "metadata": {},
   "outputs": [
    {
     "name": "stdout",
     "output_type": "stream",
     "text": [
      "[30 50]\n",
      "[10 20 30 40 50 60 70 80]\n",
      "[70 80]\n",
      "[80 70 60]\n"
     ]
    }
   ],
   "source": [
    "#slicing based on indexing number\n",
    "s=np.array([10,20,30,40,50,60,70,80])\n",
    "print(s[2:6:2])\n",
    "print(s[:])\n",
    "print(s[-2:])\n",
    "print(s[-1:-4:-1])"
   ]
  },
  {
   "cell_type": "code",
   "execution_count": 19,
   "id": "e7a87524",
   "metadata": {},
   "outputs": [
    {
     "name": "stdout",
     "output_type": "stream",
     "text": [
      "[ 0  1  2  3  4  5  6  7  8  9 10 11]\n",
      "[[ 0  1  2  3]\n",
      " [ 4  5  6  7]\n",
      " [ 8  9 10 11]]\n"
     ]
    }
   ],
   "source": [
    "#reshaping an array\n",
    "s1=np.arange(12)\n",
    "print(s1)\n",
    "s1=s1.reshape(3,4)\n",
    "print(s1)"
   ]
  },
  {
   "cell_type": "code",
   "execution_count": 20,
   "id": "851bab08",
   "metadata": {},
   "outputs": [
    {
     "name": "stdout",
     "output_type": "stream",
     "text": [
      "[0 1 2 3 4 5 6 7]\n",
      "[[0 1 2 3]\n",
      " [4 5 6 7]]\n",
      "[[[0 1]\n",
      "  [2 3]]\n",
      "\n",
      " [[4 5]\n",
      "  [6 7]]]\n"
     ]
    }
   ],
   "source": [
    "# coverting 1-d array to 2-d and 3-d arrays\n",
    "s1=np.arange(8)\n",
    "print(s1)\n",
    "s1=s1.reshape(2,4)\n",
    "print(s1)\n",
    "s1=s1.reshape(2,2,2) # 1st 2 represents layer,2 represents row and 2 represents col...\n",
    "print(s1)"
   ]
  },
  {
   "cell_type": "code",
   "execution_count": 21,
   "id": "8a8cac02",
   "metadata": {},
   "outputs": [
    {
     "name": "stdout",
     "output_type": "stream",
     "text": [
      "[1 2 3 4 5 6]\n",
      "[[ 1  2]\n",
      " [ 3  4]\n",
      " [11 12]\n",
      " [13 14]]\n",
      "[[ 1  2 11 12]\n",
      " [ 3  4 13 14]]\n"
     ]
    }
   ],
   "source": [
    "# array concatenation(1-dimensional)\n",
    "q=np.array([1,2,3])\n",
    "w=np.array([4,5,6])\n",
    "e=np.concatenate((q,w))\n",
    "print(e)\n",
    "\n",
    "# joining multidimensional arrays\n",
    "r=np.array([[1,2],[3,4]])\n",
    "t=np.array([[11,12],[13,14]])\n",
    "y=np.concatenate((r,t))\n",
    "print(y)\n",
    "\n",
    "# by using axis =1 \n",
    "r=np.array([[1,2],[3,4]])\n",
    "t=np.array([[11,12],[13,14]])\n",
    "y=np.concatenate((r,t),axis=1)\n",
    "print(y)\n"
   ]
  },
  {
   "cell_type": "code",
   "execution_count": 22,
   "id": "6e879541",
   "metadata": {},
   "outputs": [
    {
     "name": "stdout",
     "output_type": "stream",
     "text": [
      "[1 2 3 4 5 6 7 8 9]\n"
     ]
    }
   ],
   "source": [
    "# horizontal stacking(stack along rows)\n",
    "q=np.array([1,2,3])\n",
    "w=np.array([4,5,6])\n",
    "r=np.array([7,8,9])\n",
    "e=np.hstack((q,w,r))\n",
    "print(e)"
   ]
  },
  {
   "cell_type": "code",
   "execution_count": 23,
   "id": "29c1fa4a",
   "metadata": {},
   "outputs": [
    {
     "name": "stdout",
     "output_type": "stream",
     "text": [
      "[[1 2 3]\n",
      " [4 5 6]\n",
      " [7 8 9]]\n"
     ]
    }
   ],
   "source": [
    "# vertical stacking(stack along columns)\n",
    "q=np.array([1,2,3])\n",
    "w=np.array([4,5,6])\n",
    "r=np.array([7,8,9])\n",
    "e=np.vstack((q,w,r))\n",
    "print(e)"
   ]
  },
  {
   "cell_type": "code",
   "execution_count": 24,
   "id": "e0fde05d",
   "metadata": {},
   "outputs": [
    {
     "name": "stdout",
     "output_type": "stream",
     "text": [
      "[[[1 4]\n",
      "  [2 5]\n",
      "  [3 6]\n",
      "  [4 7]]]\n"
     ]
    }
   ],
   "source": [
    "# height stacking\n",
    "q=np.array([1,2,3,4])\n",
    "w=np.array([4,5,6,7])\n",
    "e=np.dstack((q,w))\n",
    "print(e)"
   ]
  },
  {
   "cell_type": "code",
   "execution_count": 25,
   "id": "a964497b",
   "metadata": {},
   "outputs": [
    {
     "name": "stdout",
     "output_type": "stream",
     "text": [
      "[array([10]), array([20]), array([30]), array([40]), array([50]), array([60]), array([70]), array([80]), array([], dtype=int32), array([], dtype=int32), array([], dtype=int32), array([], dtype=int32), array([], dtype=int32), array([], dtype=int32), array([], dtype=int32)]\n"
     ]
    }
   ],
   "source": [
    "# spilting of an array\n",
    "s=np.array([10,20,30,40,50,60,70,80])\n",
    "z=np.array_split(s,15)\n",
    "print(z)"
   ]
  },
  {
   "cell_type": "code",
   "execution_count": 26,
   "id": "14127072",
   "metadata": {},
   "outputs": [
    {
     "name": "stdout",
     "output_type": "stream",
     "text": [
      "[array([[1],\n",
      "       [3],\n",
      "       [5],\n",
      "       [7]]), array([[2],\n",
      "       [4],\n",
      "       [6],\n",
      "       [8]])]\n"
     ]
    }
   ],
   "source": [
    "# spil 7iting along rows in 2-dimensional\n",
    "r=np.array([[1,2],[3,4],[5,6],[7,8]])\n",
    "r1=np.hsplit(r,2)\n",
    "print(r1)"
   ]
  },
  {
   "cell_type": "code",
   "execution_count": 27,
   "id": "058f3e59",
   "metadata": {},
   "outputs": [
    {
     "name": "stdout",
     "output_type": "stream",
     "text": [
      "[array([[1, 2],\n",
      "       [3, 4]]), array([[5, 6],\n",
      "       [7, 8]])]\n"
     ]
    }
   ],
   "source": [
    "# spiliting along columns in 2-d\n",
    "r=np.array([[1,2],[3,4],[5,6],[7,8]])\n",
    "r1=np.vsplit(r,2)\n",
    "print(r1)"
   ]
  },
  {
   "cell_type": "code",
   "execution_count": 28,
   "id": "99cc49e1",
   "metadata": {},
   "outputs": [
    {
     "name": "stdout",
     "output_type": "stream",
     "text": [
      "[11 22 33 44 55]\n",
      "[ 9 18 27 36 45]\n",
      "[ 10  40  90 160 250]\n",
      "[0.1 0.1 0.1 0.1 0.1]\n",
      "[       10       400     27000   2560000 312500000]\n",
      "15\n",
      "120\n",
      "[ 0.84147098  0.90929743  0.14112001 -0.7568025  -0.95892427]\n"
     ]
    }
   ],
   "source": [
    "# these universal functions we are using to calculate mathematical operations(trigonometric,exponential and logarithms)\n",
    "# statistical (mean,median,mode,s.d,percentile),bitwise and comparasion operations etc....\n",
    "\n",
    "x=np.array([1,2,3,4,5])\n",
    "y=np.array([10,20,30,40,50])\n",
    "z=np.add(x,y)\n",
    "z1=np.subtract(y,x)\n",
    "z2=np.multiply(x,y)\n",
    "z3=np.divide(x,y)\n",
    "z4=np.power(y,x)\n",
    "z5=np.sum(x)\n",
    "z6=np.product(x)\n",
    "z7=np.sin(x)\n",
    "# similarly min(),max(),sqrt(),abs(),exp(),log(),sin(),cos(),tan(),arcsin(),arcos(),arctan()\n",
    "print(z)\n",
    "print(z1)\n",
    "print(z2)\n",
    "print(z3)\n",
    "print(z4)\n",
    "print(z5)\n",
    "print(z6)\n",
    "print(z7)"
   ]
  },
  {
   "cell_type": "code",
   "execution_count": 29,
   "id": "4770d586",
   "metadata": {},
   "outputs": [],
   "source": [
    "# save() function it saves an array to a binary file in the numpy  .npy format\n",
    "x1=np.array([[1,3,5],[2,4,6]])\n",
    "np.save('file.npy',x1)"
   ]
  },
  {
   "cell_type": "code",
   "execution_count": 30,
   "id": "40b25c5a",
   "metadata": {},
   "outputs": [
    {
     "name": "stdout",
     "output_type": "stream",
     "text": [
      "[[1 3 5]\n",
      " [2 4 6]]\n"
     ]
    }
   ],
   "source": [
    "# loading the binary file \n",
    "hii=np.load('file.npy')\n",
    "print(hii)"
   ]
  },
  {
   "cell_type": "code",
   "execution_count": 31,
   "id": "4d10766f",
   "metadata": {},
   "outputs": [],
   "source": [
    "# .savetxt() it saves an array to a text file\n",
    "x1=np.array([[1,3,5],[2,4,6]])\n",
    "np.savetxt('file.txt',x1)"
   ]
  },
  {
   "cell_type": "code",
   "execution_count": 32,
   "id": "272ba421",
   "metadata": {},
   "outputs": [
    {
     "name": "stdout",
     "output_type": "stream",
     "text": [
      "[[1. 3. 5.]\n",
      " [2. 4. 6.]]\n"
     ]
    }
   ],
   "source": [
    "# .loadtxt() it loads the savedtxt file \n",
    "hii=np.loadtxt('file.txt')\n",
    "print(hii)"
   ]
  },
  {
   "cell_type": "code",
   "execution_count": 33,
   "id": "5542d2ab",
   "metadata": {},
   "outputs": [
    {
     "name": "stdout",
     "output_type": "stream",
     "text": [
      "44\n",
      "[[11 23]\n",
      " [39 83]]\n",
      "[[ 2  4  6]\n",
      " [ 6 12 18]\n",
      " [10 20 30]]\n"
     ]
    }
   ],
   "source": [
    "# linear algebra\n",
    "j=np.array([1,3,5])\n",
    "k=np.array([2,4,6])\n",
    "result=np.dot(j,k)\n",
    "print(result)\n",
    "# 2d array to 1d array by suing inner() function\n",
    "a=np.array([[1,2],[5,6]])  # [1*3+2*4     1*7+2*8\n",
    "b=np.array([[3,4],[7,8]])  # 5*3+6*4     5*7+6*8]\n",
    "r1=np.inner(a,b)\n",
    "print(r1)\n",
    "\n",
    "j=np.array([1,3,5])   # [1*2 1*4 1*6\n",
    "k=np.array([2,4,6])   # 3*2 3*4 3*6\n",
    "result=np.outer(j,k)  # 5*2 5*4 5*6]\n",
    "print(result)"
   ]
  },
  {
   "cell_type": "code",
   "execution_count": 34,
   "id": "47946ee8",
   "metadata": {},
   "outputs": [
    {
     "name": "stdout",
     "output_type": "stream",
     "text": [
      "-9.51619735392994e-16\n",
      "[[ 3.15251974e+15 -6.30503948e+15  3.15251974e+15]\n",
      " [-6.30503948e+15  1.26100790e+16 -6.30503948e+15]\n",
      " [ 3.15251974e+15 -6.30503948e+15  3.15251974e+15]]\n",
      "15\n"
     ]
    }
   ],
   "source": [
    "#linalg module\n",
    "# calculating the determinent of matrix\n",
    "n=np.array([[1,2,3],[4,5,6],[7,8,9]])\n",
    "print(np.linalg.det(n))\n",
    "\n",
    "# inverse of a matrix\n",
    "print(np.linalg.inv(n))\n",
    "\n",
    "# trace of a matrix\n",
    "print(np.trace(n))"
   ]
  },
  {
   "cell_type": "code",
   "execution_count": 37,
   "id": "b13a4597",
   "metadata": {},
   "outputs": [
    {
     "name": "stdout",
     "output_type": "stream",
     "text": [
      "6\n",
      "[0.81947162 0.39616399]\n"
     ]
    }
   ],
   "source": [
    "# generating the random integer and float values\n",
    "i=np.random.randint(100)\n",
    "print(i)\n",
    "# getting a floating value in between 0 to 1\n",
    "f=np.random.rand(2)\n",
    "print(f)"
   ]
  },
  {
   "cell_type": "code",
   "execution_count": 5,
   "id": "6c02f21b",
   "metadata": {},
   "outputs": [
    {
     "name": "stdout",
     "output_type": "stream",
     "text": [
      "[89 75 88 57]\n",
      "[[0.51345516 0.42152745]\n",
      " [0.1040529  0.1400292 ]]\n"
     ]
    }
   ],
   "source": [
    "# generating random array\n",
    "# here we generating 4 random integers in between 0 to 99\n",
    "d=np.random.randint(0,100,4)\n",
    "print(d)\n",
    "\n",
    "# generating a 3 by 3 matrix containing a floating values in between 0 to 1\n",
    "v=np.random.rand(2,2)\n",
    "print(v)"
   ]
  },
  {
   "cell_type": "code",
   "execution_count": 18,
   "id": "81f8ccd0",
   "metadata": {},
   "outputs": [
    {
     "name": "stdout",
     "output_type": "stream",
     "text": [
      "[70 91  7 37 56]\n"
     ]
    }
   ],
   "source": [
    "# seed will give you everytime the same random numbers \n",
    "np.random.seed(40)\n",
    "f=np.random.randint(0,100,5)\n",
    "print(f)"
   ]
  }
 ],
 "metadata": {
  "kernelspec": {
   "display_name": "Python 3 (ipykernel)",
   "language": "python",
   "name": "python3"
  },
  "language_info": {
   "codemirror_mode": {
    "name": "ipython",
    "version": 3
   },
   "file_extension": ".py",
   "mimetype": "text/x-python",
   "name": "python",
   "nbconvert_exporter": "python",
   "pygments_lexer": "ipython3",
   "version": "3.12.7"
  }
 },
 "nbformat": 4,
 "nbformat_minor": 5
}
